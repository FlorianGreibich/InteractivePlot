{
 "cells": [
  {
   "cell_type": "code",
   "execution_count": 1,
   "metadata": {},
   "outputs": [],
   "source": [
    "import pandas as pd\n",
    "import numpy as np\n",
    "import matplotlib as mpl\n",
    "import matplotlib.pyplot as plt\n",
    "import openpyxl\n",
    "import teradata\n",
    "import plotly\n",
    "import plotly.graph_objects as go\n",
    "from ipywidgets import widgets\n",
    "import plotly.graph_objects as go\n",
    "import plotly.figure_factory as ff\n",
    "import pickle\n",
    "mpl.rcParams['figure.dpi']= 100"
   ]
  },
  {
   "cell_type": "code",
   "execution_count": 11,
   "metadata": {},
   "outputs": [],
   "source": [
    "with open('testdata.txt', 'rb') as file:\n",
    "    dflist = pickle.load(file)"
   ]
  },
  {
   "cell_type": "code",
   "execution_count": 12,
   "metadata": {},
   "outputs": [],
   "source": [
    "aggoptions=['Gesamt', 'Geschlecht', 'Altersgruppe', 'Shop', 'Kalenderwoche']\n",
    "for i, ddf in enumerate(dflist):\n",
    "    if ddf.columns[0] in aggoptions:\n",
    "        dflist[i].set_index(dflist[i].columns[0], inplace=True)\n",
    "    if None in ddf.index:\n",
    "        dflist[i].drop(index=[None], inplace=True)\n",
    "dflist[0].rename(index={0:'Sum'}, inplace=True)"
   ]
  },
  {
   "cell_type": "code",
   "execution_count": 13,
   "metadata": {},
   "outputs": [],
   "source": [
    "df1 = dflist[0].T.iloc[:7]\n",
    "df2 = dflist[0].T.iloc[7:34]\n",
    "df3 = dflist[0].T.iloc[34:]\n",
    "\n",
    "catoptions=['P1', 'P2', 'P3']\n",
    "aggoptions=['Gesamt', 'Geschlecht', 'Altersgruppe', 'Shop', 'Kalenderwoche']\n",
    "optdict = {'P1':df1, 'P2':df2, 'P3':df3}\n",
    "init = 'P1'\n",
    "\n",
    "textbox = widgets.Dropdown(\n",
    "    description='Kategorie:   ',\n",
    "    value='P1',\n",
    "    options=catoptions\n",
    ")\n",
    "\n",
    "aggregation = widgets.Dropdown(\n",
    "    description='Aggregation:   ',\n",
    "    value='Gesamt',\n",
    "    options=aggoptions\n",
    ")\n",
    "\n",
    "elements = widgets.SelectMultiple(\n",
    "    options=optdict[init].index,\n",
    "    value=[],\n",
    "    description='Elemente',\n",
    "    disabled=False\n",
    ")\n",
    "\n",
    "\n",
    "ttrace1 = go.Table(header=dict(values=list(['index']+list(df1.columns))), cells=dict(values=[list(df1.index)]+df1.T.values.tolist()))\n",
    "ttrace2 = go.Table(header=dict(values=list(['index']+list(df2.columns))), cells=dict(values=[list(df2.index)]+df2.T.values.tolist()))\n",
    "ttrace3 = go.Table(header=dict(values=list(['index']+list(df3.columns))), cells=dict(values=[list(df3.index)]+df3.T.values.tolist()))\n",
    "\n",
    "g = go.FigureWidget(data=[])\n",
    "for i in range(df1.shape[0]):\n",
    "    trace = go.Bar(x=df1.columns, y=df1.iloc[i], name=df1.index[i])\n",
    "    g.add_trace(trace)    \n",
    "g.update_layout(barmode='stack', xaxis={'categoryorder':'total descending'})\n",
    "\n",
    "t = go.FigureWidget(data=[ttrace1])\n",
    "\n",
    "ttlist = [ttrace1, ttrace2, ttrace3]"
   ]
  },
  {
   "cell_type": "code",
   "execution_count": 14,
   "metadata": {},
   "outputs": [],
   "source": [
    "def response(change):\n",
    "    \n",
    "    init = change.new\n",
    "    elements.options = optdict[init].index\n",
    "    \n",
    "    index = catoptions.index(textbox.value)\n",
    "    dd = optdict[init]\n",
    "    dd = (dd/dd.sum(axis=0) * 100)\n",
    "    \n",
    "    with g.batch_update():\n",
    "        g.data = []\n",
    "        for i in range(dd.shape[0]):\n",
    "            trace = go.Bar(x=dd.columns, y=dd.iloc[i], name=dd.index[i])\n",
    "            g.add_trace(trace)    \n",
    "        g.update_layout(barmode='stack', xaxis={'categoryorder':'total descending'})\n",
    "    with t.batch_update():    \n",
    "        t.data = []\n",
    "        t.add_trace(ttlist[index])\n",
    "\n",
    "def response2(change):\n",
    "    \n",
    "    cat = textbox.value\n",
    "    indices = list(elements.value)\n",
    "    newttrace = go.Table(header=dict(values=list(['index', df1.columns])), cells=dict(values=[indices, optdict[cat].loc[indices]]))\n",
    "    \n",
    "    dd = optdict[cat].loc[indices]\n",
    "    dd = (dd/dd.sum(axis=0) * 100)\n",
    "    \n",
    "    with g.batch_update():\n",
    "        g.data = []\n",
    "        for i in range(dd.shape[0]):\n",
    "            trace = go.Bar(x=dd.columns, y=dd.iloc[i], name=dd.index[i])\n",
    "            g.add_trace(trace)    \n",
    "        g.update_layout(barmode='stack', xaxis={'categoryorder':'total descending'})\n",
    "    with t.batch_update():    \n",
    "        t.data = []\n",
    "        t.add_trace(newttrace)\n",
    "\n",
    "def response3(change):\n",
    "    \n",
    "    index = aggoptions.index(aggregation.value)\n",
    "    \n",
    "    df1 = dflist[index].T.iloc[:7]\n",
    "    df2 = dflist[index].T.iloc[7:34]\n",
    "    df3 = dflist[index].T.iloc[34:]\n",
    "    global optdict \n",
    "    optdict = {'P1':df1, 'P2':df2, 'P3':df3}\n",
    "\n",
    "    cat = textbox.value\n",
    "    if elements.value: \n",
    "        indices = list(elements.value)\n",
    "    else:\n",
    "        indices = optdict[cat].index\n",
    "    \n",
    "    newttrace = go.Table(header=dict(values=list(['index']+list(df1.columns))), cells=dict(values=[indices]+optdict[cat].loc[indices].T.values.tolist()))\n",
    "    ttrace1 = go.Table(header=dict(values=list(['index']+list(df1.columns))), cells=dict(values=[df1.index]+df1.T.values.tolist()))\n",
    "    ttrace2 = go.Table(header=dict(values=list(['index']+list(df2.columns))), cells=dict(values=[df2.index]+df2.T.values.tolist()))\n",
    "    ttrace3 = go.Table(header=dict(values=list(['index']+list(df3.columns))), cells=dict(values=[df3.index]+df3.T.values.tolist())) \n",
    "    global ttlist\n",
    "    ttlist = [ttrace1, ttrace2, ttrace3]\n",
    "\n",
    "    dd = optdict[textbox.value].loc[indices]\n",
    "    dd = (dd/dd.sum(axis=0) * 100)\n",
    "    \n",
    "    with g.batch_update():\n",
    "        g.data = []\n",
    "        for i in range(dd.shape[0]):\n",
    "            trace = go.Bar(x=dd.columns, y=dd.iloc[i], name=dd.index[i])\n",
    "            g.add_trace(trace)    \n",
    "        g.update_layout(barmode='stack', xaxis={'categoryorder':'total descending'})\n",
    "    with t.batch_update():    \n",
    "        t.data = []\n",
    "        t.add_trace(newttrace)\n",
    "\n",
    "\n",
    "        \n",
    "textbox.observe(response, names=\"value\")\n",
    "elements.observe(response2, names=\"value\")\n",
    "aggregation.observe(response3, names='value')"
   ]
  },
  {
   "cell_type": "code",
   "execution_count": 15,
   "metadata": {},
   "outputs": [
    {
     "data": {
      "application/vnd.jupyter.widget-view+json": {
       "model_id": "2533eb65ca7b4845973b7ceedc089072",
       "version_major": 2,
       "version_minor": 0
      },
      "text/plain": [
       "VBox(children=(HBox(children=(Dropdown(description='Kategorie:   ', options=('P1', 'P2', 'P3'), value='P1'), S…"
      ]
     },
     "metadata": {},
     "output_type": "display_data"
    }
   ],
   "source": [
    "comp = widgets.HBox([textbox, elements, aggregation])\n",
    "widgets.VBox([comp, g, t])"
   ]
  },
  {
   "cell_type": "code",
   "execution_count": null,
   "metadata": {},
   "outputs": [],
   "source": []
  }
 ],
 "metadata": {
  "kernelspec": {
   "display_name": "Python 3",
   "language": "python",
   "name": "python3"
  },
  "language_info": {
   "codemirror_mode": {
    "name": "ipython",
    "version": 3
   },
   "file_extension": ".py",
   "mimetype": "text/x-python",
   "name": "python",
   "nbconvert_exporter": "python",
   "pygments_lexer": "ipython3",
   "version": "3.7.6"
  }
 },
 "nbformat": 4,
 "nbformat_minor": 4
}
